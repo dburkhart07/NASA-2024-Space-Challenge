{
  "cells": [
    {
      "cell_type": "markdown",
      "metadata": {
        "id": "DUET3FpNbi7U"
      },
      "source": [
        "# Plan\n",
        "\n",
        "1. Research earthquakes, research common earthquake classification methods\n",
        "2. Get oriented with data, see if we can find any patterns\n",
        "3. Decide on ML or non-ML approach\n",
        "\n",
        "## ML approach plan options:\n",
        "\n",
        "CNN (convolutional neural network)\n",
        "- feed the model all the different times in each dataset, labeled as \"arrival\" or \"not arrival\"\n",
        "- use the relationship between the velocities of different time steps to form a model classifying \"arrival\" or not."
      ]
    },
    {
      "cell_type": "code",
      "execution_count": 101,
      "metadata": {
        "id": "5uiSJWhTaV46"
      },
      "outputs": [],
      "source": [
        "import numpy as np\n",
        "import pandas as pd\n",
        "from datetime import datetime, timedelta\n",
        "import matplotlib.pyplot as plt\n",
        "import os\n",
        "from obspy import read\n",
        "import math"
      ]
    },
    {
      "cell_type": "code",
      "execution_count": 3,
      "metadata": {
        "id": "N9hvHyhyb3Ei"
      },
      "outputs": [],
      "source": [
        "dir_name = 'data/lunar/training'\n",
        "catalog_name = 'apollo12_catalog_GradeA_final.csv'"
      ]
    },
    {
      "cell_type": "code",
      "execution_count": 5,
      "metadata": {
        "collapsed": true,
        "id": "qLLaUdbnbTht"
      },
      "outputs": [],
      "source": [
        "# get catalog dataframe\n",
        "catalog_df = pd.read_csv(os.path.join(dir_name + '/catalogs/', catalog_name))\n",
        "catalog_df = catalog_df.drop(catalog_df.index[20]).reset_index(drop=True)\n",
        "# get list of files\n",
        "arrival_time_catalog = catalog_df['time_rel(sec)']\n",
        "filename_catalog = catalog_df['filename']\n",
        "# make_plot(filename_catalog, arrival_time_catalog)"
      ]
    },
    {
      "cell_type": "code",
      "execution_count": 4,
      "metadata": {
        "id": "IBFuMMfUiYB2"
      },
      "outputs": [],
      "source": [
        "# make the plot for a csv file\n",
        "def make_plot(namelist, arrival_time):\n",
        "  fig, ax = plt.subplots(5, 1, figsize=(10, 20))\n",
        "  # go through the catalog\n",
        "  for i in range(len(namelist.head())):\n",
        "    # read the csv and put it into a dataframe\n",
        "    df = pd.read_csv(os.path.join(dir_name + '/data/S12_GradeA', namelist[i] + '.csv'))\n",
        "    # put both the times and data columns into respective lists\n",
        "    times = np.array(df['time_rel(sec)'].tolist())\n",
        "    data = np.array(df['velocity(m/s)'].tolist())\n",
        "    # make a plot of time vs velocity\n",
        "    ax[i].plot(times, data)\n",
        "    ax[i].set_xlabel('Time (s)')\n",
        "    ax[i].set_ylabel('Velocity (m/s)')\n",
        "    # add a red line for the correct arrival time\n",
        "    ax[i].axvline(x = arrival_time[i], color='red',label='Rel. Arrival')\n",
        "    arrival_line = ax[i].axvline(x=arrival_time[i], c='red', label='Abs. Arrival')\n",
        "    ax[i].legend(handles=[arrival_line])"
      ]
    },
    {
      "cell_type": "code",
      "execution_count": null,
      "metadata": {
        "colab": {
          "base_uri": "https://localhost:8080/",
          "height": 141
        },
        "collapsed": true,
        "id": "WVLBKz71hZp_",
        "outputId": "7cf76bc1-c516-406c-e09e-6bdef7d8e9c8"
      },
      "outputs": [],
      "source": [
        "# make_plot(filename_catalog[2])"
      ]
    },
    {
      "cell_type": "markdown",
      "metadata": {
        "id": "8KSBg51TLBGm"
      },
      "source": [
        "# Machine Learning Section - LR\n",
        "\n",
        "\n",
        "pairs to be fixed:\n",
        "7,8\n",
        "21,22\n",
        "35,36\n",
        "47,48\n",
        "66,67"
      ]
    },
    {
      "cell_type": "markdown",
      "metadata": {
        "id": "r-93qk020bON"
      },
      "source": [
        "# New Version"
      ]
    },
    {
      "cell_type": "markdown",
      "metadata": {
        "id": "dC4FxF8f_WkA"
      },
      "source": [
        "Version 3"
      ]
    },
    {
      "cell_type": "code",
      "execution_count": 103,
      "metadata": {
        "id": "YZnL-y-6_WkA"
      },
      "outputs": [],
      "source": [
        "# split a csv into windows\n",
        "def makeWindows(df, arrival_times, b_bound = 4, f_bound = 8, jump = 50):\n",
        "  arrival_indices = []\n",
        "  for arrival_time in arrival_times:\n",
        "    time_list = df['time_rel(sec)'].tolist()\n",
        "    for i in range(len(time_list)):\n",
        "      if math.isclose(time_list[i], arrival_time, abs_tol=0.1):\n",
        "        arrival_indices += [i]\n",
        "        break\n",
        "  velocities = df['velocity(m/s)'].tolist()\n",
        "\n",
        "  result = []\n",
        "  for offset in range(0, jump):\n",
        "    f_pointer = (b_bound + f_bound) * jump + offset\n",
        "    first_arr = np.array(velocities[0: f_pointer:jump])\n",
        "    #print(first_arr)\n",
        "    first_arr = np.array([np.float64(abs(i)) for i in first_arr])\n",
        "    result = result + [[first_arr, False]]\n",
        "    f_pointer += jump\n",
        "\n",
        "\n",
        "    while f_pointer < len(velocities):\n",
        "      target = f_pointer - (f_bound * jump)\n",
        "      classification = False\n",
        "      if target in arrival_indices:\n",
        "        classification = True\n",
        "      # print(np.float64(velocities[f_pointer]))\n",
        "      # print([np.array(result[-1][0][1:]) + np.float64(velocities[f_pointer])])\n",
        "      result.append([np.concatenate((np.array(result[-1][0][1:]), np.float64(abs(velocities[f_pointer]))), axis=None), classification])\n",
        "      f_pointer += jump\n",
        "\n",
        "  return result"
      ]
    },
    {
      "cell_type": "code",
      "execution_count": 104,
      "metadata": {
        "collapsed": true,
        "id": "b7975xRWOIgO"
      },
      "outputs": [],
      "source": [
        "# create windows in a big dataframe for any number of csvs\n",
        "def make_many_windows(count = catalog_df.shape[0], jumps = 50):\n",
        "  windows_df = pd.DataFrame(columns=['window', 'classification'])\n",
        "  # keep track of our duplicate csvs (multiple arrival times)\n",
        "  duplicates = {7:8, 21:22, 35:36, 47:48, 66:67}\n",
        "  # go through the amount of csv files we want to look at\n",
        "  for i in range(count):\n",
        "    if i in duplicates.values():\n",
        "      continue\n",
        "\n",
        "    arrival_times = [catalog_df.loc[i, 'time_rel(sec)']]\n",
        "    if i in duplicates.keys():\n",
        "      arrival_times.append(catalog_df.loc[duplicates[i], 'time_rel(sec)'])\n",
        "\n",
        "    filename = catalog_df.loc[i, 'filename']\n",
        "    csv_df = pd.read_csv(os.path.join(dir_name + '/data/S12_GradeA/', filename + '.csv'))\n",
        "    new_windows = pd.DataFrame(makeWindows(csv_df, arrival_times, jump = jumps), columns=['window', 'classification'])\n",
        "    windows_df = pd.concat([windows_df, new_windows])\n",
        "  return windows_df\n",
        "\n"
      ]
    },
    {
      "cell_type": "code",
      "execution_count": 105,
      "metadata": {
        "id": "HMYf5O5f_WkB"
      },
      "outputs": [],
      "source": [
        "# cProfile.run(\"make_one_window()\")\n",
        "windows_df = make_many_windows(20, jumps=200)"
      ]
    },
    {
      "cell_type": "code",
      "execution_count": 106,
      "metadata": {
        "id": "9kOt0RNslhoS"
      },
      "outputs": [
        {
          "name": "stdout",
          "output_type": "stream",
          "text": [
            "                                                   window classification\n",
            "392895  [2.615472186269719e-11, 1.0525445909367719e-10...           True\n",
            "199928  [1.2546847794692858e-10, 3.3448070314031916e-1...           True\n",
            "449875  [2.0969773143235136e-10, 2.6026914867671456e-1...           True\n",
            "42908   [1.2199051835026662e-10, 3.4291220158383776e-1...           True\n",
            "78684   [1.1956302898365138e-10, 1.0253514637434532e-1...           True\n",
            "429779  [1.6301366254506448e-10, 9.883457199931022e-11...           True\n",
            "563855  [2.1210412791239447e-10, 1.9693108929735575e-1...           True\n",
            "100365  [4.076576634813371e-10, 2.595375292988274e-10,...           True\n",
            "115406  [3.31970875557756e-10, 1.7570268736368482e-10,...           True\n",
            "22332   [5.041614617857014e-10, 7.146081895328625e-11,...           True\n",
            "[2.61547219e-11 1.05254459e-10 2.52200479e-10 1.18134078e-10\n",
            " 6.72298991e-10 3.10715850e-11 1.40079832e-10 9.93506220e-10\n",
            " 2.01385078e-09 2.61848696e-11 2.36421898e-09 9.48563512e-11\n",
            " 6.13876848e-10]\n"
          ]
        }
      ],
      "source": [
        "temp_df = windows_df.query('classification == True')\n",
        "print(temp_df.head(10))\n",
        "print(temp_df.iloc[0,0])"
      ]
    },
    {
      "cell_type": "code",
      "execution_count": 107,
      "metadata": {
        "id": "AE6yK83jLTaR"
      },
      "outputs": [
        {
          "data": {
            "text/html": [
              "<div>\n",
              "<style scoped>\n",
              "    .dataframe tbody tr th:only-of-type {\n",
              "        vertical-align: middle;\n",
              "    }\n",
              "\n",
              "    .dataframe tbody tr th {\n",
              "        vertical-align: top;\n",
              "    }\n",
              "\n",
              "    .dataframe thead th {\n",
              "        text-align: right;\n",
              "    }\n",
              "</style>\n",
              "<table border=\"1\" class=\"dataframe\">\n",
              "  <thead>\n",
              "    <tr style=\"text-align: right;\">\n",
              "      <th></th>\n",
              "      <th>window</th>\n",
              "      <th>classification</th>\n",
              "    </tr>\n",
              "  </thead>\n",
              "  <tbody>\n",
              "    <tr>\n",
              "      <th>0</th>\n",
              "      <td>[6.153278962788711e-14, 2.85616945537678e-15, ...</td>\n",
              "      <td>False</td>\n",
              "    </tr>\n",
              "    <tr>\n",
              "      <th>1</th>\n",
              "      <td>[2.85616945537678e-15, 1.730540858201767e-14, ...</td>\n",
              "      <td>False</td>\n",
              "    </tr>\n",
              "    <tr>\n",
              "      <th>2</th>\n",
              "      <td>[1.730540858201767e-14, 3.3823113618422784e-13...</td>\n",
              "      <td>False</td>\n",
              "    </tr>\n",
              "    <tr>\n",
              "      <th>3</th>\n",
              "      <td>[3.3823113618422784e-13, 2.319956473454342e-13...</td>\n",
              "      <td>False</td>\n",
              "    </tr>\n",
              "    <tr>\n",
              "      <th>4</th>\n",
              "      <td>[2.319956473454342e-13, 3.441583532076547e-12,...</td>\n",
              "      <td>False</td>\n",
              "    </tr>\n",
              "    <tr>\n",
              "      <th>...</th>\n",
              "      <td>...</td>\n",
              "      <td>...</td>\n",
              "    </tr>\n",
              "    <tr>\n",
              "      <th>570022</th>\n",
              "      <td>[7.572116065506919e-11, 1.945692252264205e-11,...</td>\n",
              "      <td>False</td>\n",
              "    </tr>\n",
              "    <tr>\n",
              "      <th>570023</th>\n",
              "      <td>[1.945692252264205e-11, 9.572665287095862e-12,...</td>\n",
              "      <td>False</td>\n",
              "    </tr>\n",
              "    <tr>\n",
              "      <th>570024</th>\n",
              "      <td>[9.572665287095862e-12, 5.697413589820812e-12,...</td>\n",
              "      <td>False</td>\n",
              "    </tr>\n",
              "    <tr>\n",
              "      <th>570025</th>\n",
              "      <td>[5.697413589820812e-12, 2.8324028871074872e-11...</td>\n",
              "      <td>False</td>\n",
              "    </tr>\n",
              "    <tr>\n",
              "      <th>570026</th>\n",
              "      <td>[2.8324028871074872e-11, 2.6951462665384167e-1...</td>\n",
              "      <td>False</td>\n",
              "    </tr>\n",
              "  </tbody>\n",
              "</table>\n",
              "<p>10830313 rows × 2 columns</p>\n",
              "</div>"
            ],
            "text/plain": [
              "                                                   window classification\n",
              "0       [6.153278962788711e-14, 2.85616945537678e-15, ...          False\n",
              "1       [2.85616945537678e-15, 1.730540858201767e-14, ...          False\n",
              "2       [1.730540858201767e-14, 3.3823113618422784e-13...          False\n",
              "3       [3.3823113618422784e-13, 2.319956473454342e-13...          False\n",
              "4       [2.319956473454342e-13, 3.441583532076547e-12,...          False\n",
              "...                                                   ...            ...\n",
              "570022  [7.572116065506919e-11, 1.945692252264205e-11,...          False\n",
              "570023  [1.945692252264205e-11, 9.572665287095862e-12,...          False\n",
              "570024  [9.572665287095862e-12, 5.697413589820812e-12,...          False\n",
              "570025  [5.697413589820812e-12, 2.8324028871074872e-11...          False\n",
              "570026  [2.8324028871074872e-11, 2.6951462665384167e-1...          False\n",
              "\n",
              "[10830313 rows x 2 columns]"
            ]
          },
          "execution_count": 107,
          "metadata": {},
          "output_type": "execute_result"
        }
      ],
      "source": [
        "windows_df"
      ]
    },
    {
      "cell_type": "markdown",
      "metadata": {},
      "source": [
        "# Model Training"
      ]
    },
    {
      "cell_type": "code",
      "execution_count": 35,
      "metadata": {},
      "outputs": [],
      "source": [
        "from sklearn.linear_model import LogisticRegression\n",
        "from sklearn.ensemble import RandomForestClassifier\n",
        "from sklearn.metrics import classification_report, accuracy_score, confusion_matrix\n"
      ]
    },
    {
      "cell_type": "code",
      "execution_count": 108,
      "metadata": {},
      "outputs": [
        {
          "data": {
            "text/html": [
              "<div>\n",
              "<style scoped>\n",
              "    .dataframe tbody tr th:only-of-type {\n",
              "        vertical-align: middle;\n",
              "    }\n",
              "\n",
              "    .dataframe tbody tr th {\n",
              "        vertical-align: top;\n",
              "    }\n",
              "\n",
              "    .dataframe thead th {\n",
              "        text-align: right;\n",
              "    }\n",
              "</style>\n",
              "<table border=\"1\" class=\"dataframe\">\n",
              "  <thead>\n",
              "    <tr style=\"text-align: right;\">\n",
              "      <th></th>\n",
              "      <th>window</th>\n",
              "      <th>classification</th>\n",
              "    </tr>\n",
              "  </thead>\n",
              "  <tbody>\n",
              "    <tr>\n",
              "      <th>0</th>\n",
              "      <td>[6.153278962788711e-14, 2.85616945537678e-15, ...</td>\n",
              "      <td>False</td>\n",
              "    </tr>\n",
              "    <tr>\n",
              "      <th>1</th>\n",
              "      <td>[2.85616945537678e-15, 1.730540858201767e-14, ...</td>\n",
              "      <td>False</td>\n",
              "    </tr>\n",
              "    <tr>\n",
              "      <th>2</th>\n",
              "      <td>[1.730540858201767e-14, 3.3823113618422784e-13...</td>\n",
              "      <td>False</td>\n",
              "    </tr>\n",
              "    <tr>\n",
              "      <th>3</th>\n",
              "      <td>[3.3823113618422784e-13, 2.319956473454342e-13...</td>\n",
              "      <td>False</td>\n",
              "    </tr>\n",
              "    <tr>\n",
              "      <th>4</th>\n",
              "      <td>[2.319956473454342e-13, 3.441583532076547e-12,...</td>\n",
              "      <td>False</td>\n",
              "    </tr>\n",
              "    <tr>\n",
              "      <th>...</th>\n",
              "      <td>...</td>\n",
              "      <td>...</td>\n",
              "    </tr>\n",
              "    <tr>\n",
              "      <th>570022</th>\n",
              "      <td>[7.572116065506919e-11, 1.945692252264205e-11,...</td>\n",
              "      <td>False</td>\n",
              "    </tr>\n",
              "    <tr>\n",
              "      <th>570023</th>\n",
              "      <td>[1.945692252264205e-11, 9.572665287095862e-12,...</td>\n",
              "      <td>False</td>\n",
              "    </tr>\n",
              "    <tr>\n",
              "      <th>570024</th>\n",
              "      <td>[9.572665287095862e-12, 5.697413589820812e-12,...</td>\n",
              "      <td>False</td>\n",
              "    </tr>\n",
              "    <tr>\n",
              "      <th>570025</th>\n",
              "      <td>[5.697413589820812e-12, 2.8324028871074872e-11...</td>\n",
              "      <td>False</td>\n",
              "    </tr>\n",
              "    <tr>\n",
              "      <th>570026</th>\n",
              "      <td>[2.8324028871074872e-11, 2.6951462665384167e-1...</td>\n",
              "      <td>False</td>\n",
              "    </tr>\n",
              "  </tbody>\n",
              "</table>\n",
              "<p>10830313 rows × 2 columns</p>\n",
              "</div>"
            ],
            "text/plain": [
              "                                                   window classification\n",
              "0       [6.153278962788711e-14, 2.85616945537678e-15, ...          False\n",
              "1       [2.85616945537678e-15, 1.730540858201767e-14, ...          False\n",
              "2       [1.730540858201767e-14, 3.3823113618422784e-13...          False\n",
              "3       [3.3823113618422784e-13, 2.319956473454342e-13...          False\n",
              "4       [2.319956473454342e-13, 3.441583532076547e-12,...          False\n",
              "...                                                   ...            ...\n",
              "570022  [7.572116065506919e-11, 1.945692252264205e-11,...          False\n",
              "570023  [1.945692252264205e-11, 9.572665287095862e-12,...          False\n",
              "570024  [9.572665287095862e-12, 5.697413589820812e-12,...          False\n",
              "570025  [5.697413589820812e-12, 2.8324028871074872e-11...          False\n",
              "570026  [2.8324028871074872e-11, 2.6951462665384167e-1...          False\n",
              "\n",
              "[10830313 rows x 2 columns]"
            ]
          },
          "execution_count": 108,
          "metadata": {},
          "output_type": "execute_result"
        }
      ],
      "source": [
        "df = windows_df\n",
        "df"
      ]
    },
    {
      "cell_type": "code",
      "execution_count": 109,
      "metadata": {},
      "outputs": [
        {
          "name": "stdout",
          "output_type": "stream",
          "text": [
            "(2186, 2)\n",
            "                                                 window classification\n",
            "0     [1.7768079150057295e-10, 4.6157111272474764e-1...          False\n",
            "1     [2.231688784578763e-10, 1.3161729278831426e-10...          False\n",
            "2     [8.658529926336031e-11, 1.0262497900244396e-10...          False\n",
            "3     [9.648182630120286e-11, 1.6244328563800403e-10...          False\n",
            "4     [2.1978817209464934e-10, 1.9663644773023595e-1...          False\n",
            "...                                                 ...            ...\n",
            "2181  [6.456444776974853e-10, 5.831839164890788e-10,...          False\n",
            "2182  [2.2693860056226438e-10, 3.0142349712112284e-1...          False\n",
            "2183  [1.4979905773453998e-10, 1.0119205295288019e-1...          False\n",
            "2184  [4.994913032797356e-09, 1.140079810542627e-09,...          False\n",
            "2185  [1.8831929285477692e-10, 3.1132164614629754e-1...          False\n",
            "\n",
            "[2186 rows x 2 columns]\n"
          ]
        }
      ],
      "source": [
        "df = windows_df\n",
        "df_zeros = df[df['classification'] == False]\n",
        "df_zeros = df_zeros.sample(frac=0.0002, random_state=42)\n",
        "df_ones = df[df['classification'] == True]\n",
        "df_pruned = pd.concat([df_zeros, df_ones])\n",
        "df_pruned\n",
        "df = df_pruned\n",
        "df = df.sample(frac=1, random_state=42).reset_index(drop=True)\n",
        "print(df.shape)\n",
        "print(df)\n"
      ]
    },
    {
      "cell_type": "code",
      "execution_count": 110,
      "metadata": {},
      "outputs": [
        {
          "data": {
            "text/html": [
              "<div>\n",
              "<style scoped>\n",
              "    .dataframe tbody tr th:only-of-type {\n",
              "        vertical-align: middle;\n",
              "    }\n",
              "\n",
              "    .dataframe tbody tr th {\n",
              "        vertical-align: top;\n",
              "    }\n",
              "\n",
              "    .dataframe thead th {\n",
              "        text-align: right;\n",
              "    }\n",
              "</style>\n",
              "<table border=\"1\" class=\"dataframe\">\n",
              "  <thead>\n",
              "    <tr style=\"text-align: right;\">\n",
              "      <th></th>\n",
              "      <th>0</th>\n",
              "      <th>1</th>\n",
              "      <th>2</th>\n",
              "      <th>3</th>\n",
              "      <th>4</th>\n",
              "      <th>5</th>\n",
              "      <th>6</th>\n",
              "      <th>7</th>\n",
              "      <th>8</th>\n",
              "      <th>9</th>\n",
              "      <th>10</th>\n",
              "      <th>11</th>\n",
              "    </tr>\n",
              "  </thead>\n",
              "  <tbody>\n",
              "    <tr>\n",
              "      <th>0</th>\n",
              "      <td>1.776808e-10</td>\n",
              "      <td>4.615711e-10</td>\n",
              "      <td>2.752155e-12</td>\n",
              "      <td>1.006013e-10</td>\n",
              "      <td>5.560358e-11</td>\n",
              "      <td>1.473633e-10</td>\n",
              "      <td>2.227921e-11</td>\n",
              "      <td>2.006091e-10</td>\n",
              "      <td>2.397536e-11</td>\n",
              "      <td>9.178344e-11</td>\n",
              "      <td>2.367150e-10</td>\n",
              "      <td>1.047664e-10</td>\n",
              "    </tr>\n",
              "    <tr>\n",
              "      <th>1</th>\n",
              "      <td>2.231689e-10</td>\n",
              "      <td>1.316173e-10</td>\n",
              "      <td>3.161875e-10</td>\n",
              "      <td>6.489149e-11</td>\n",
              "      <td>2.440468e-10</td>\n",
              "      <td>1.819746e-10</td>\n",
              "      <td>1.763363e-10</td>\n",
              "      <td>6.598531e-10</td>\n",
              "      <td>1.090675e-11</td>\n",
              "      <td>1.407380e-10</td>\n",
              "      <td>3.676019e-11</td>\n",
              "      <td>5.152654e-10</td>\n",
              "    </tr>\n",
              "    <tr>\n",
              "      <th>2</th>\n",
              "      <td>8.658530e-11</td>\n",
              "      <td>1.026250e-10</td>\n",
              "      <td>6.141028e-11</td>\n",
              "      <td>8.671985e-11</td>\n",
              "      <td>1.637710e-10</td>\n",
              "      <td>2.923113e-10</td>\n",
              "      <td>4.898582e-11</td>\n",
              "      <td>4.435983e-10</td>\n",
              "      <td>3.388429e-10</td>\n",
              "      <td>2.914754e-11</td>\n",
              "      <td>3.354819e-10</td>\n",
              "      <td>3.861093e-11</td>\n",
              "    </tr>\n",
              "    <tr>\n",
              "      <th>3</th>\n",
              "      <td>9.648183e-11</td>\n",
              "      <td>1.624433e-10</td>\n",
              "      <td>2.872933e-11</td>\n",
              "      <td>1.967340e-10</td>\n",
              "      <td>1.931233e-10</td>\n",
              "      <td>2.648497e-10</td>\n",
              "      <td>1.947000e-10</td>\n",
              "      <td>2.611762e-10</td>\n",
              "      <td>9.707584e-11</td>\n",
              "      <td>2.277244e-10</td>\n",
              "      <td>5.590474e-10</td>\n",
              "      <td>8.711333e-12</td>\n",
              "    </tr>\n",
              "    <tr>\n",
              "      <th>4</th>\n",
              "      <td>2.197882e-10</td>\n",
              "      <td>1.966364e-10</td>\n",
              "      <td>1.433237e-10</td>\n",
              "      <td>3.245206e-10</td>\n",
              "      <td>4.306331e-11</td>\n",
              "      <td>4.352492e-10</td>\n",
              "      <td>2.874396e-11</td>\n",
              "      <td>3.472316e-10</td>\n",
              "      <td>1.760436e-10</td>\n",
              "      <td>6.188894e-11</td>\n",
              "      <td>7.807283e-11</td>\n",
              "      <td>3.330569e-10</td>\n",
              "    </tr>\n",
              "    <tr>\n",
              "      <th>...</th>\n",
              "      <td>...</td>\n",
              "      <td>...</td>\n",
              "      <td>...</td>\n",
              "      <td>...</td>\n",
              "      <td>...</td>\n",
              "      <td>...</td>\n",
              "      <td>...</td>\n",
              "      <td>...</td>\n",
              "      <td>...</td>\n",
              "      <td>...</td>\n",
              "      <td>...</td>\n",
              "      <td>...</td>\n",
              "    </tr>\n",
              "    <tr>\n",
              "      <th>2181</th>\n",
              "      <td>6.456445e-10</td>\n",
              "      <td>5.831839e-10</td>\n",
              "      <td>4.540541e-10</td>\n",
              "      <td>5.764002e-11</td>\n",
              "      <td>2.391920e-10</td>\n",
              "      <td>6.592754e-10</td>\n",
              "      <td>7.577688e-10</td>\n",
              "      <td>1.078497e-09</td>\n",
              "      <td>3.016015e-10</td>\n",
              "      <td>1.027445e-12</td>\n",
              "      <td>3.816238e-10</td>\n",
              "      <td>7.259305e-10</td>\n",
              "    </tr>\n",
              "    <tr>\n",
              "      <th>2182</th>\n",
              "      <td>2.269386e-10</td>\n",
              "      <td>3.014235e-11</td>\n",
              "      <td>1.420293e-10</td>\n",
              "      <td>1.184829e-10</td>\n",
              "      <td>1.041413e-10</td>\n",
              "      <td>3.119288e-10</td>\n",
              "      <td>1.086237e-10</td>\n",
              "      <td>3.495907e-11</td>\n",
              "      <td>1.099868e-10</td>\n",
              "      <td>5.647581e-10</td>\n",
              "      <td>1.874773e-10</td>\n",
              "      <td>9.964380e-11</td>\n",
              "    </tr>\n",
              "    <tr>\n",
              "      <th>2183</th>\n",
              "      <td>1.497991e-10</td>\n",
              "      <td>1.011921e-10</td>\n",
              "      <td>1.022454e-10</td>\n",
              "      <td>2.339914e-10</td>\n",
              "      <td>1.764276e-10</td>\n",
              "      <td>1.811897e-10</td>\n",
              "      <td>4.821468e-10</td>\n",
              "      <td>3.037316e-11</td>\n",
              "      <td>1.968186e-10</td>\n",
              "      <td>4.199692e-10</td>\n",
              "      <td>1.199541e-09</td>\n",
              "      <td>1.514998e-09</td>\n",
              "    </tr>\n",
              "    <tr>\n",
              "      <th>2184</th>\n",
              "      <td>4.994913e-09</td>\n",
              "      <td>1.140080e-09</td>\n",
              "      <td>4.058278e-10</td>\n",
              "      <td>3.150956e-09</td>\n",
              "      <td>3.700066e-09</td>\n",
              "      <td>5.243700e-10</td>\n",
              "      <td>2.882965e-10</td>\n",
              "      <td>1.571421e-09</td>\n",
              "      <td>1.503334e-09</td>\n",
              "      <td>2.883847e-09</td>\n",
              "      <td>2.155465e-09</td>\n",
              "      <td>9.148663e-10</td>\n",
              "    </tr>\n",
              "    <tr>\n",
              "      <th>2185</th>\n",
              "      <td>1.883193e-10</td>\n",
              "      <td>3.113216e-10</td>\n",
              "      <td>5.098782e-10</td>\n",
              "      <td>2.871421e-10</td>\n",
              "      <td>4.037229e-10</td>\n",
              "      <td>9.965003e-12</td>\n",
              "      <td>1.325102e-10</td>\n",
              "      <td>1.345821e-10</td>\n",
              "      <td>2.480509e-10</td>\n",
              "      <td>5.254445e-10</td>\n",
              "      <td>1.978177e-10</td>\n",
              "      <td>1.508644e-10</td>\n",
              "    </tr>\n",
              "  </tbody>\n",
              "</table>\n",
              "<p>2186 rows × 12 columns</p>\n",
              "</div>"
            ],
            "text/plain": [
              "                0             1             2             3             4   \\\n",
              "0     1.776808e-10  4.615711e-10  2.752155e-12  1.006013e-10  5.560358e-11   \n",
              "1     2.231689e-10  1.316173e-10  3.161875e-10  6.489149e-11  2.440468e-10   \n",
              "2     8.658530e-11  1.026250e-10  6.141028e-11  8.671985e-11  1.637710e-10   \n",
              "3     9.648183e-11  1.624433e-10  2.872933e-11  1.967340e-10  1.931233e-10   \n",
              "4     2.197882e-10  1.966364e-10  1.433237e-10  3.245206e-10  4.306331e-11   \n",
              "...            ...           ...           ...           ...           ...   \n",
              "2181  6.456445e-10  5.831839e-10  4.540541e-10  5.764002e-11  2.391920e-10   \n",
              "2182  2.269386e-10  3.014235e-11  1.420293e-10  1.184829e-10  1.041413e-10   \n",
              "2183  1.497991e-10  1.011921e-10  1.022454e-10  2.339914e-10  1.764276e-10   \n",
              "2184  4.994913e-09  1.140080e-09  4.058278e-10  3.150956e-09  3.700066e-09   \n",
              "2185  1.883193e-10  3.113216e-10  5.098782e-10  2.871421e-10  4.037229e-10   \n",
              "\n",
              "                5             6             7             8             9   \\\n",
              "0     1.473633e-10  2.227921e-11  2.006091e-10  2.397536e-11  9.178344e-11   \n",
              "1     1.819746e-10  1.763363e-10  6.598531e-10  1.090675e-11  1.407380e-10   \n",
              "2     2.923113e-10  4.898582e-11  4.435983e-10  3.388429e-10  2.914754e-11   \n",
              "3     2.648497e-10  1.947000e-10  2.611762e-10  9.707584e-11  2.277244e-10   \n",
              "4     4.352492e-10  2.874396e-11  3.472316e-10  1.760436e-10  6.188894e-11   \n",
              "...            ...           ...           ...           ...           ...   \n",
              "2181  6.592754e-10  7.577688e-10  1.078497e-09  3.016015e-10  1.027445e-12   \n",
              "2182  3.119288e-10  1.086237e-10  3.495907e-11  1.099868e-10  5.647581e-10   \n",
              "2183  1.811897e-10  4.821468e-10  3.037316e-11  1.968186e-10  4.199692e-10   \n",
              "2184  5.243700e-10  2.882965e-10  1.571421e-09  1.503334e-09  2.883847e-09   \n",
              "2185  9.965003e-12  1.325102e-10  1.345821e-10  2.480509e-10  5.254445e-10   \n",
              "\n",
              "                10            11  \n",
              "0     2.367150e-10  1.047664e-10  \n",
              "1     3.676019e-11  5.152654e-10  \n",
              "2     3.354819e-10  3.861093e-11  \n",
              "3     5.590474e-10  8.711333e-12  \n",
              "4     7.807283e-11  3.330569e-10  \n",
              "...            ...           ...  \n",
              "2181  3.816238e-10  7.259305e-10  \n",
              "2182  1.874773e-10  9.964380e-11  \n",
              "2183  1.199541e-09  1.514998e-09  \n",
              "2184  2.155465e-09  9.148663e-10  \n",
              "2185  1.978177e-10  1.508644e-10  \n",
              "\n",
              "[2186 rows x 12 columns]"
            ]
          },
          "execution_count": 110,
          "metadata": {},
          "output_type": "execute_result"
        }
      ],
      "source": [
        "# Clean data for model training\n",
        "X_clean = pd.DataFrame(df['window'].tolist())\n",
        "X_clean = X_clean.dropna(axis = 1, how = 'any')\n",
        "y = df['classification'].astype(int)\n",
        "X_clean"
      ]
    },
    {
      "cell_type": "code",
      "execution_count": 111,
      "metadata": {},
      "outputs": [
        {
          "data": {
            "text/html": [
              "<style>#sk-container-id-6 {color: black;}#sk-container-id-6 pre{padding: 0;}#sk-container-id-6 div.sk-toggleable {background-color: white;}#sk-container-id-6 label.sk-toggleable__label {cursor: pointer;display: block;width: 100%;margin-bottom: 0;padding: 0.3em;box-sizing: border-box;text-align: center;}#sk-container-id-6 label.sk-toggleable__label-arrow:before {content: \"▸\";float: left;margin-right: 0.25em;color: #696969;}#sk-container-id-6 label.sk-toggleable__label-arrow:hover:before {color: black;}#sk-container-id-6 div.sk-estimator:hover label.sk-toggleable__label-arrow:before {color: black;}#sk-container-id-6 div.sk-toggleable__content {max-height: 0;max-width: 0;overflow: hidden;text-align: left;background-color: #f0f8ff;}#sk-container-id-6 div.sk-toggleable__content pre {margin: 0.2em;color: black;border-radius: 0.25em;background-color: #f0f8ff;}#sk-container-id-6 input.sk-toggleable__control:checked~div.sk-toggleable__content {max-height: 200px;max-width: 100%;overflow: auto;}#sk-container-id-6 input.sk-toggleable__control:checked~label.sk-toggleable__label-arrow:before {content: \"▾\";}#sk-container-id-6 div.sk-estimator input.sk-toggleable__control:checked~label.sk-toggleable__label {background-color: #d4ebff;}#sk-container-id-6 div.sk-label input.sk-toggleable__control:checked~label.sk-toggleable__label {background-color: #d4ebff;}#sk-container-id-6 input.sk-hidden--visually {border: 0;clip: rect(1px 1px 1px 1px);clip: rect(1px, 1px, 1px, 1px);height: 1px;margin: -1px;overflow: hidden;padding: 0;position: absolute;width: 1px;}#sk-container-id-6 div.sk-estimator {font-family: monospace;background-color: #f0f8ff;border: 1px dotted black;border-radius: 0.25em;box-sizing: border-box;margin-bottom: 0.5em;}#sk-container-id-6 div.sk-estimator:hover {background-color: #d4ebff;}#sk-container-id-6 div.sk-parallel-item::after {content: \"\";width: 100%;border-bottom: 1px solid gray;flex-grow: 1;}#sk-container-id-6 div.sk-label:hover label.sk-toggleable__label {background-color: #d4ebff;}#sk-container-id-6 div.sk-serial::before {content: \"\";position: absolute;border-left: 1px solid gray;box-sizing: border-box;top: 0;bottom: 0;left: 50%;z-index: 0;}#sk-container-id-6 div.sk-serial {display: flex;flex-direction: column;align-items: center;background-color: white;padding-right: 0.2em;padding-left: 0.2em;position: relative;}#sk-container-id-6 div.sk-item {position: relative;z-index: 1;}#sk-container-id-6 div.sk-parallel {display: flex;align-items: stretch;justify-content: center;background-color: white;position: relative;}#sk-container-id-6 div.sk-item::before, #sk-container-id-6 div.sk-parallel-item::before {content: \"\";position: absolute;border-left: 1px solid gray;box-sizing: border-box;top: 0;bottom: 0;left: 50%;z-index: -1;}#sk-container-id-6 div.sk-parallel-item {display: flex;flex-direction: column;z-index: 1;position: relative;background-color: white;}#sk-container-id-6 div.sk-parallel-item:first-child::after {align-self: flex-end;width: 50%;}#sk-container-id-6 div.sk-parallel-item:last-child::after {align-self: flex-start;width: 50%;}#sk-container-id-6 div.sk-parallel-item:only-child::after {width: 0;}#sk-container-id-6 div.sk-dashed-wrapped {border: 1px dashed gray;margin: 0 0.4em 0.5em 0.4em;box-sizing: border-box;padding-bottom: 0.4em;background-color: white;}#sk-container-id-6 div.sk-label label {font-family: monospace;font-weight: bold;display: inline-block;line-height: 1.2em;}#sk-container-id-6 div.sk-label-container {text-align: center;}#sk-container-id-6 div.sk-container {/* jupyter's `normalize.less` sets `[hidden] { display: none; }` but bootstrap.min.css set `[hidden] { display: none !important; }` so we also need the `!important` here to be able to override the default hidden behavior on the sphinx rendered scikit-learn.org. See: https://github.com/scikit-learn/scikit-learn/issues/21755 */display: inline-block !important;position: relative;}#sk-container-id-6 div.sk-text-repr-fallback {display: none;}</style><div id=\"sk-container-id-6\" class=\"sk-top-container\"><div class=\"sk-text-repr-fallback\"><pre>LogisticRegression(class_weight=&#x27;balanced&#x27;)</pre><b>In a Jupyter environment, please rerun this cell to show the HTML representation or trust the notebook. <br />On GitHub, the HTML representation is unable to render, please try loading this page with nbviewer.org.</b></div><div class=\"sk-container\" hidden><div class=\"sk-item\"><div class=\"sk-estimator sk-toggleable\"><input class=\"sk-toggleable__control sk-hidden--visually\" id=\"sk-estimator-id-6\" type=\"checkbox\" checked><label for=\"sk-estimator-id-6\" class=\"sk-toggleable__label sk-toggleable__label-arrow\">LogisticRegression</label><div class=\"sk-toggleable__content\"><pre>LogisticRegression(class_weight=&#x27;balanced&#x27;)</pre></div></div></div></div></div>"
            ],
            "text/plain": [
              "LogisticRegression(class_weight='balanced')"
            ]
          },
          "execution_count": 111,
          "metadata": {},
          "output_type": "execute_result"
        }
      ],
      "source": [
        "class_weights = {0: 1, 1: 540000}\n",
        "model = LogisticRegression(max_iter=100, class_weight='balanced')\n",
        "model.fit(X_clean, y)"
      ]
    },
    {
      "cell_type": "markdown",
      "metadata": {},
      "source": [
        "# Test Data Processing\n",
        "\n",
        "### Using actual test data"
      ]
    },
    {
      "cell_type": "code",
      "execution_count": 112,
      "metadata": {},
      "outputs": [],
      "source": [
        "test_dir_name = 'data/lunar/test/S12_GradeB/'"
      ]
    },
    {
      "cell_type": "markdown",
      "metadata": {},
      "source": [
        "### Using portion of training data"
      ]
    },
    {
      "cell_type": "code",
      "execution_count": 113,
      "metadata": {},
      "outputs": [],
      "source": [
        "# make same type of dataframe for testing data\n",
        "def make_test_windows(start = 30, count = catalog_df.shape[0], jumps = 50):\n",
        "  test_windows_df = pd.DataFrame(columns=['window', 'classification'])\n",
        "\n",
        "  duplicates = {7:8, 21:22, 35:36, 47:48, 66:67}\n",
        "  for i in range(start, count):\n",
        "    if i in duplicates.values():\n",
        "      continue\n",
        "\n",
        "    arrival_times = [catalog_df.loc[i, 'time_rel(sec)']]\n",
        "    if i in duplicates.keys():\n",
        "      arrival_times.append(catalog_df.loc[duplicates[i], 'time_rel(sec)'])\n",
        "\n",
        "    filename = catalog_df.loc[i, 'filename']\n",
        "    csv_df = pd.read_csv(os.path.join(dir_name + '/data/S12_GradeA/', filename + '.csv'))\n",
        "    new_windows = pd.DataFrame(makeWindows(csv_df, arrival_times, jump = jumps), columns=['window', 'classification'])\n",
        "    test_windows_df = pd.concat([test_windows_df, new_windows])\n",
        "  return test_windows_df"
      ]
    },
    {
      "cell_type": "code",
      "execution_count": 114,
      "metadata": {},
      "outputs": [],
      "source": [
        "test_df = make_test_windows(start=30, count=catalog_df.shape[0], jumps=200)"
      ]
    },
    {
      "cell_type": "code",
      "execution_count": 115,
      "metadata": {},
      "outputs": [
        {
          "data": {
            "text/html": [
              "<div>\n",
              "<style scoped>\n",
              "    .dataframe tbody tr th:only-of-type {\n",
              "        vertical-align: middle;\n",
              "    }\n",
              "\n",
              "    .dataframe tbody tr th {\n",
              "        vertical-align: top;\n",
              "    }\n",
              "\n",
              "    .dataframe thead th {\n",
              "        text-align: right;\n",
              "    }\n",
              "</style>\n",
              "<table border=\"1\" class=\"dataframe\">\n",
              "  <thead>\n",
              "    <tr style=\"text-align: right;\">\n",
              "      <th></th>\n",
              "      <th>window</th>\n",
              "      <th>classification</th>\n",
              "    </tr>\n",
              "  </thead>\n",
              "  <tbody>\n",
              "    <tr>\n",
              "      <th>0</th>\n",
              "      <td>[1.406432122600214e-15, 1.8401397302403882e-17...</td>\n",
              "      <td>False</td>\n",
              "    </tr>\n",
              "    <tr>\n",
              "      <th>1</th>\n",
              "      <td>[1.8401397302403882e-17, 1.5994157455475232e-1...</td>\n",
              "      <td>False</td>\n",
              "    </tr>\n",
              "    <tr>\n",
              "      <th>2</th>\n",
              "      <td>[1.5994157455475232e-14, 8.791586538396387e-13...</td>\n",
              "      <td>False</td>\n",
              "    </tr>\n",
              "    <tr>\n",
              "      <th>3</th>\n",
              "      <td>[8.791586538396387e-13, 3.356882446658291e-13,...</td>\n",
              "      <td>False</td>\n",
              "    </tr>\n",
              "    <tr>\n",
              "      <th>4</th>\n",
              "      <td>[3.356882446658291e-13, 9.112072540232316e-13,...</td>\n",
              "      <td>False</td>\n",
              "    </tr>\n",
              "    <tr>\n",
              "      <th>...</th>\n",
              "      <td>...</td>\n",
              "      <td>...</td>\n",
              "    </tr>\n",
              "    <tr>\n",
              "      <th>570002</th>\n",
              "      <td>[1.5372765341245761e-12, 4.313554191251328e-14...</td>\n",
              "      <td>False</td>\n",
              "    </tr>\n",
              "    <tr>\n",
              "      <th>570003</th>\n",
              "      <td>[4.313554191251328e-14, 1.417290681164798e-13,...</td>\n",
              "      <td>False</td>\n",
              "    </tr>\n",
              "    <tr>\n",
              "      <th>570004</th>\n",
              "      <td>[1.417290681164798e-13, 1.3318165700826157e-12...</td>\n",
              "      <td>False</td>\n",
              "    </tr>\n",
              "    <tr>\n",
              "      <th>570005</th>\n",
              "      <td>[1.3318165700826157e-12, 5.069384195598557e-15...</td>\n",
              "      <td>False</td>\n",
              "    </tr>\n",
              "    <tr>\n",
              "      <th>570006</th>\n",
              "      <td>[5.069384195598557e-15, 4.707601158433407e-13,...</td>\n",
              "      <td>False</td>\n",
              "    </tr>\n",
              "  </tbody>\n",
              "</table>\n",
              "<p>23710086 rows × 2 columns</p>\n",
              "</div>"
            ],
            "text/plain": [
              "                                                   window classification\n",
              "0       [1.406432122600214e-15, 1.8401397302403882e-17...          False\n",
              "1       [1.8401397302403882e-17, 1.5994157455475232e-1...          False\n",
              "2       [1.5994157455475232e-14, 8.791586538396387e-13...          False\n",
              "3       [8.791586538396387e-13, 3.356882446658291e-13,...          False\n",
              "4       [3.356882446658291e-13, 9.112072540232316e-13,...          False\n",
              "...                                                   ...            ...\n",
              "570002  [1.5372765341245761e-12, 4.313554191251328e-14...          False\n",
              "570003  [4.313554191251328e-14, 1.417290681164798e-13,...          False\n",
              "570004  [1.417290681164798e-13, 1.3318165700826157e-12...          False\n",
              "570005  [1.3318165700826157e-12, 5.069384195598557e-15...          False\n",
              "570006  [5.069384195598557e-15, 4.707601158433407e-13,...          False\n",
              "\n",
              "[23710086 rows x 2 columns]"
            ]
          },
          "execution_count": 115,
          "metadata": {},
          "output_type": "execute_result"
        }
      ],
      "source": [
        "test_df"
      ]
    },
    {
      "cell_type": "markdown",
      "metadata": {},
      "source": [
        "### Prepare it for the model"
      ]
    },
    {
      "cell_type": "code",
      "execution_count": 113,
      "metadata": {},
      "outputs": [
        {
          "data": {
            "text/plain": [
              "6707"
            ]
          },
          "execution_count": 113,
          "metadata": {},
          "output_type": "execute_result"
        }
      ],
      "source": [
        "import gc\n",
        "gc.collect()"
      ]
    },
    {
      "cell_type": "code",
      "execution_count": 116,
      "metadata": {},
      "outputs": [],
      "source": [
        "X_test_clean = pd.DataFrame(test_df['window'].tolist())\n",
        "X_test_clean = X_test_clean.dropna(axis = 1, how = 'any')\n",
        "y_test = test_df['classification'].astype(int)"
      ]
    },
    {
      "cell_type": "markdown",
      "metadata": {},
      "source": [
        "Run the model on some data"
      ]
    },
    {
      "cell_type": "code",
      "execution_count": 117,
      "metadata": {},
      "outputs": [
        {
          "name": "stdout",
          "output_type": "stream",
          "text": [
            "[0 0 0 ... 0 0 0]\n",
            "0.9999981020735227\n",
            "[[23710041        0]\n",
            " [      45        0]]\n",
            "              precision    recall  f1-score   support\n",
            "\n",
            "           0       1.00      1.00      1.00  23710041\n",
            "           1       0.00      0.00      0.00        45\n",
            "\n",
            "    accuracy                           1.00  23710086\n",
            "   macro avg       0.50      0.50      0.50  23710086\n",
            "weighted avg       1.00      1.00      1.00  23710086\n",
            "\n"
          ]
        }
      ],
      "source": [
        "# Evaluation metrics\n",
        "predictions = model.predict(X_test_clean)\n",
        "print(predictions)\n",
        "\n",
        "accuracy = accuracy_score(y_test, predictions)\n",
        "print(accuracy)\n",
        "\n",
        "confusion = confusion_matrix(y_test, predictions)\n",
        "report = classification_report(y_test, predictions, zero_division=0)\n",
        "\n",
        "print(confusion)\n",
        "print(report)"
      ]
    },
    {
      "cell_type": "code",
      "execution_count": 118,
      "metadata": {},
      "outputs": [],
      "source": [
        "# Examine how the model trains given a certain weight for class balancing\n",
        "def test_weight(weight):\n",
        "  model = LogisticRegression(max_iter=1000, solver='liblinear', class_weight = {0: 1, 1: weight})\n",
        "  model.fit(X_clean, y)\n",
        "  predictions = model.predict(X_test_clean)\n",
        "  accuracy = accuracy_score(y_test, predictions)\n",
        "  return accuracy"
      ]
    },
    {
      "cell_type": "code",
      "execution_count": 122,
      "metadata": {},
      "outputs": [],
      "source": [
        "# Fine tuning \n",
        "def search_weights():\n",
        "    l = 1000\n",
        "    r = 5402340\n",
        "    while True:\n",
        "      mid = (r-l) // 2 + l\n",
        "      print(mid)\n",
        "      accuracy = test_weight(mid)\n",
        "      print(accuracy)\n",
        "      if accuracy >= 0.9999983091356555:\n",
        "          l = mid\n",
        "      elif accuracy <= 1.690864344489938e-06:\n",
        "          r = mid\n",
        "      else:\n",
        "        print(accuracy)\n",
        "        return mid"
      ]
    },
    {
      "cell_type": "code",
      "execution_count": null,
      "metadata": {},
      "outputs": [],
      "source": [
        "search_weights()"
      ]
    }
  ],
  "metadata": {
    "colab": {
      "provenance": []
    },
    "kernelspec": {
      "display_name": "Python 3",
      "language": "python",
      "name": "python3"
    },
    "language_info": {
      "codemirror_mode": {
        "name": "ipython",
        "version": 3
      },
      "file_extension": ".py",
      "mimetype": "text/x-python",
      "name": "python",
      "nbconvert_exporter": "python",
      "pygments_lexer": "ipython3",
      "version": "3.12.0"
    }
  },
  "nbformat": 4,
  "nbformat_minor": 0
}
