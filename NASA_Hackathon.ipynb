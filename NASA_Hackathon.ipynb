{
  "cells": [
    {
      "cell_type": "markdown",
      "metadata": {
        "id": "DUET3FpNbi7U"
      },
      "source": [
        "# Plan\n",
        "\n",
        "1. Research earthquakes, research common earthquake classification methods\n",
        "2. Get oriented with data, see if we can find any patterns\n",
        "3. Decide on ML or non-ML approach\n",
        "\n",
        "## ML approach plan options:\n",
        "\n",
        "CNN (convolutional neural network)\n",
        "- feed the model all the different times in each dataset, labeled as \"arrival\" or \"not arrival\"\n",
        "- use the relationship between the velocities of different time steps to form a model classifying \"arrival\" or not."
      ]
    },
    {
      "cell_type": "code",
      "execution_count": 1,
      "metadata": {
        "id": "5uiSJWhTaV46"
      },
      "outputs": [],
      "source": [
        "import numpy as np\n",
        "import pandas as pd\n",
        "from datetime import datetime, timedelta\n",
        "import matplotlib.pyplot as plt\n",
        "import os\n",
        "from obspy import read\n",
        "import math\n",
        "import cProfile"
      ]
    },
    {
      "cell_type": "code",
      "execution_count": 2,
      "metadata": {
        "id": "N9hvHyhyb3Ei"
      },
      "outputs": [],
      "source": [
        "dir_name = 'data/lunar/training'\n",
        "catalog_name = 'apollo12_catalog_GradeA_final.csv'"
      ]
    },
    {
      "cell_type": "code",
      "execution_count": 5,
      "metadata": {
        "collapsed": true,
        "id": "qLLaUdbnbTht"
      },
      "outputs": [],
      "source": [
        "# get catalog dataframe\n",
        "catalog_df = pd.read_csv(os.path.join(dir_name + '/catalogs/', catalog_name))\n",
        "catalog_df = catalog_df.drop(catalog_df.index[20]).reset_index(drop=True)\n",
        "# print(catalog_df.head())\n",
        "# get list of files\n",
        "arrival_time_catalog = catalog_df['time_rel(sec)']\n",
        "filename_catalog = catalog_df['filename']\n",
        "# make_plot(filename_catalog, arrival_time_catalog)"
      ]
    },
    {
      "cell_type": "code",
      "execution_count": 6,
      "metadata": {
        "id": "IBFuMMfUiYB2"
      },
      "outputs": [],
      "source": [
        "# make the plot for a csv file\n",
        "def make_plot(namelist, arrival_time):\n",
        "  fig, ax = plt.subplots(5, 1, figsize=(10, 20))\n",
        "  # for i in range(len(namelist)):\n",
        "  for i in range(len(namelist.head())):\n",
        "    df = pd.read_csv(os.path.join(dir_name + '/data/S12_GradeA', namelist[i] + '.csv'))\n",
        "    times = np.array(df['time_rel(sec)'].tolist())\n",
        "    data = np.array(df['velocity(m/s)'].tolist())\n",
        "    ax[i].plot(times, data)\n",
        "    ax[i].set_xlabel('Time (s)')\n",
        "    ax[i].set_ylabel('Velocity (m/s)')\n",
        "    ax[i].axvline(x = arrival_time[i], color='red',label='Rel. Arrival')\n",
        "    arrival_line = ax[i].axvline(x=arrival_time[i], c='red', label='Abs. Arrival')\n",
        "    ax[i].legend(handles=[arrival_line])"
      ]
    },
    {
      "cell_type": "code",
      "execution_count": null,
      "metadata": {
        "colab": {
          "base_uri": "https://localhost:8080/",
          "height": 141
        },
        "collapsed": true,
        "id": "WVLBKz71hZp_",
        "outputId": "7cf76bc1-c516-406c-e09e-6bdef7d8e9c8"
      },
      "outputs": [],
      "source": [
        "# make_plot(filename_catalog[2])"
      ]
    },
    {
      "cell_type": "markdown",
      "metadata": {
        "id": "8KSBg51TLBGm"
      },
      "source": [
        "# Machine Learning Section - LSTM\n",
        "\n",
        "\n",
        "pairs to be fixed:\n",
        "7,8\n",
        "21,22\n",
        "35,36\n",
        "47,48\n",
        "66,67"
      ]
    },
    {
      "cell_type": "markdown",
      "metadata": {
        "id": "r-93qk020bON"
      },
      "source": [
        "# New Version"
      ]
    },
    {
      "cell_type": "markdown",
      "metadata": {
        "id": "dC4FxF8f_WkA"
      },
      "source": [
        "Version 3"
      ]
    },
    {
      "cell_type": "code",
      "execution_count": 7,
      "metadata": {
        "id": "YZnL-y-6_WkA"
      },
      "outputs": [],
      "source": [
        "# split a csv into windows\n",
        "def makeWindows(df, arrival_times, b_bound = 2, f_bound = 6, jump = 50):\n",
        "  # print(df, arrival_times)\n",
        "  arrival_indices = []\n",
        "  # print(df['time_rel(sec)'].tolist()[48500:48900])\n",
        "  for arrival_time in arrival_times:\n",
        "    time_list = df['time_rel(sec)'].tolist()\n",
        "    for i in range(len(time_list)):\n",
        "      if math.isclose(time_list[i], arrival_time, abs_tol=0.1):\n",
        "        # print(time_list[i], arrival_time)\n",
        "        arrival_indices += [i]\n",
        "        break\n",
        "  velocities = df['velocity(m/s)'].tolist()\n",
        "\n",
        "  result = []\n",
        "  for offset in range(0, jump):\n",
        "    f_pointer = (b_bound + f_bound) * jump + offset\n",
        "    result = result + [[velocities[0: f_pointer:jump], False]]\n",
        "    f_pointer += jump\n",
        "\n",
        "\n",
        "    while f_pointer < len(velocities):\n",
        "      target = f_pointer - (f_bound * jump)\n",
        "      classification = False\n",
        "      if target in arrival_indices:\n",
        "        classification = True\n",
        "      result.append([result[-1][0][1:] + [velocities[f_pointer]], classification])\n",
        "      f_pointer += jump\n",
        "\n",
        "  return result"
      ]
    },
    {
      "cell_type": "code",
      "execution_count": 8,
      "metadata": {
        "collapsed": true,
        "id": "b7975xRWOIgO"
      },
      "outputs": [],
      "source": [
        "def make_many_windows(count = catalog_df.shape[0], jumps = 50):\n",
        "  windows_df = pd.DataFrame(columns=['window', 'classification'])\n",
        "\n",
        "  duplicates = {7:8, 21:22, 35:36, 47:48, 66:67}\n",
        "  for i in range(count):\n",
        "    if i in duplicates.values():\n",
        "      continue\n",
        "\n",
        "    arrival_times = [catalog_df.loc[i, 'time_rel(sec)']]\n",
        "    if i in duplicates.keys():\n",
        "      arrival_times.append(catalog_df.loc[duplicates[i], 'time_rel(sec)'])\n",
        "\n",
        "    filename = catalog_df.loc[i, 'filename']\n",
        "    csv_df = pd.read_csv(os.path.join(dir_name + '/data/S12_GradeA/', filename + '.csv'))\n",
        "    new_windows = pd.DataFrame(makeWindows(csv_df, arrival_times, jump = jumps), columns=['window', 'classification'])\n",
        "    windows_df = pd.concat([windows_df, new_windows])\n",
        "  return windows_df\n",
        "\n"
      ]
    },
    {
      "cell_type": "code",
      "execution_count": 10,
      "metadata": {
        "id": "HMYf5O5f_WkB"
      },
      "outputs": [],
      "source": [
        "# cProfile.run(\"make_one_window()\")\n",
        "windows_df = make_many_windows(20)"
      ]
    },
    {
      "cell_type": "code",
      "execution_count": null,
      "metadata": {
        "id": "9kOt0RNslhoS"
      },
      "outputs": [],
      "source": [
        "temp_df = windows_df.query('classification == True')\n",
        "print(temp_df.head(10))\n",
        "print(temp_df.iloc[0,0])"
      ]
    },
    {
      "cell_type": "code",
      "execution_count": 13,
      "metadata": {
        "id": "AE6yK83jLTaR"
      },
      "outputs": [
        {
          "data": {
            "text/html": [
              "<div>\n",
              "<style scoped>\n",
              "    .dataframe tbody tr th:only-of-type {\n",
              "        vertical-align: middle;\n",
              "    }\n",
              "\n",
              "    .dataframe tbody tr th {\n",
              "        vertical-align: top;\n",
              "    }\n",
              "\n",
              "    .dataframe thead th {\n",
              "        text-align: right;\n",
              "    }\n",
              "</style>\n",
              "<table border=\"1\" class=\"dataframe\">\n",
              "  <thead>\n",
              "    <tr style=\"text-align: right;\">\n",
              "      <th></th>\n",
              "      <th>window</th>\n",
              "      <th>classification</th>\n",
              "    </tr>\n",
              "  </thead>\n",
              "  <tbody>\n",
              "    <tr>\n",
              "      <th>0</th>\n",
              "      <td>[-6.153278962788711e-14, -4.0231967094196936e-...</td>\n",
              "      <td>False</td>\n",
              "    </tr>\n",
              "    <tr>\n",
              "      <th>1</th>\n",
              "      <td>[-4.0231967094196936e-15, -4.834471003261831e-...</td>\n",
              "      <td>False</td>\n",
              "    </tr>\n",
              "    <tr>\n",
              "      <th>2</th>\n",
              "      <td>[-4.834471003261831e-15, -2.374202804578299e-1...</td>\n",
              "      <td>False</td>\n",
              "    </tr>\n",
              "    <tr>\n",
              "      <th>3</th>\n",
              "      <td>[-2.374202804578299e-15, -2.85616945537678e-15...</td>\n",
              "      <td>False</td>\n",
              "    </tr>\n",
              "    <tr>\n",
              "      <th>4</th>\n",
              "      <td>[-2.85616945537678e-15, 4.638873676341524e-15,...</td>\n",
              "      <td>False</td>\n",
              "    </tr>\n",
              "    <tr>\n",
              "      <th>...</th>\n",
              "      <td>...</td>\n",
              "      <td>...</td>\n",
              "    </tr>\n",
              "    <tr>\n",
              "      <th>572022</th>\n",
              "      <td>[4.0916856076953674e-13, -5.394413107166994e-1...</td>\n",
              "      <td>False</td>\n",
              "    </tr>\n",
              "    <tr>\n",
              "      <th>572023</th>\n",
              "      <td>[-5.394413107166994e-13, -4.0983000671240844e-...</td>\n",
              "      <td>False</td>\n",
              "    </tr>\n",
              "    <tr>\n",
              "      <th>572024</th>\n",
              "      <td>[-4.0983000671240844e-13, 1.8727645246361492e-...</td>\n",
              "      <td>False</td>\n",
              "    </tr>\n",
              "    <tr>\n",
              "      <th>572025</th>\n",
              "      <td>[1.8727645246361492e-14, -2.0450441355628337e-...</td>\n",
              "      <td>False</td>\n",
              "    </tr>\n",
              "    <tr>\n",
              "      <th>572026</th>\n",
              "      <td>[-2.0450441355628337e-13, 2.434416450571423e-1...</td>\n",
              "      <td>False</td>\n",
              "    </tr>\n",
              "  </tbody>\n",
              "</table>\n",
              "<p>10868313 rows × 2 columns</p>\n",
              "</div>"
            ],
            "text/plain": [
              "                                                   window classification\n",
              "0       [-6.153278962788711e-14, -4.0231967094196936e-...          False\n",
              "1       [-4.0231967094196936e-15, -4.834471003261831e-...          False\n",
              "2       [-4.834471003261831e-15, -2.374202804578299e-1...          False\n",
              "3       [-2.374202804578299e-15, -2.85616945537678e-15...          False\n",
              "4       [-2.85616945537678e-15, 4.638873676341524e-15,...          False\n",
              "...                                                   ...            ...\n",
              "572022  [4.0916856076953674e-13, -5.394413107166994e-1...          False\n",
              "572023  [-5.394413107166994e-13, -4.0983000671240844e-...          False\n",
              "572024  [-4.0983000671240844e-13, 1.8727645246361492e-...          False\n",
              "572025  [1.8727645246361492e-14, -2.0450441355628337e-...          False\n",
              "572026  [-2.0450441355628337e-13, 2.434416450571423e-1...          False\n",
              "\n",
              "[10868313 rows x 2 columns]"
            ]
          },
          "execution_count": 13,
          "metadata": {},
          "output_type": "execute_result"
        }
      ],
      "source": [
        "windows_df"
      ]
    },
    {
      "cell_type": "markdown",
      "metadata": {},
      "source": [
        "# Model Training"
      ]
    },
    {
      "cell_type": "code",
      "execution_count": 19,
      "metadata": {},
      "outputs": [],
      "source": [
        "from sklearn.linear_model import LogisticRegression\n",
        "from sklearn.ensemble import RandomForestClassifier\n",
        "from sklearn.metrics import classification_report, accuracy_score\n"
      ]
    },
    {
      "cell_type": "code",
      "execution_count": 16,
      "metadata": {},
      "outputs": [],
      "source": [
        "df = windows_df"
      ]
    },
    {
      "cell_type": "code",
      "execution_count": 24,
      "metadata": {},
      "outputs": [
        {
          "data": {
            "text/html": [
              "<div>\n",
              "<style scoped>\n",
              "    .dataframe tbody tr th:only-of-type {\n",
              "        vertical-align: middle;\n",
              "    }\n",
              "\n",
              "    .dataframe tbody tr th {\n",
              "        vertical-align: top;\n",
              "    }\n",
              "\n",
              "    .dataframe thead th {\n",
              "        text-align: right;\n",
              "    }\n",
              "</style>\n",
              "<table border=\"1\" class=\"dataframe\">\n",
              "  <thead>\n",
              "    <tr style=\"text-align: right;\">\n",
              "      <th></th>\n",
              "      <th>0</th>\n",
              "      <th>1</th>\n",
              "      <th>2</th>\n",
              "      <th>3</th>\n",
              "      <th>4</th>\n",
              "      <th>5</th>\n",
              "      <th>6</th>\n",
              "      <th>7</th>\n",
              "    </tr>\n",
              "  </thead>\n",
              "  <tbody>\n",
              "    <tr>\n",
              "      <th>0</th>\n",
              "      <td>-6.153279e-14</td>\n",
              "      <td>-4.023197e-15</td>\n",
              "      <td>-4.834471e-15</td>\n",
              "      <td>-2.374203e-15</td>\n",
              "      <td>-2.856169e-15</td>\n",
              "      <td>4.638874e-15</td>\n",
              "      <td>-7.392754e-14</td>\n",
              "      <td>1.197871e-13</td>\n",
              "    </tr>\n",
              "    <tr>\n",
              "      <th>1</th>\n",
              "      <td>-4.023197e-15</td>\n",
              "      <td>-4.834471e-15</td>\n",
              "      <td>-2.374203e-15</td>\n",
              "      <td>-2.856169e-15</td>\n",
              "      <td>4.638874e-15</td>\n",
              "      <td>-7.392754e-14</td>\n",
              "      <td>1.197871e-13</td>\n",
              "      <td>-5.045166e-14</td>\n",
              "    </tr>\n",
              "    <tr>\n",
              "      <th>2</th>\n",
              "      <td>-4.834471e-15</td>\n",
              "      <td>-2.374203e-15</td>\n",
              "      <td>-2.856169e-15</td>\n",
              "      <td>4.638874e-15</td>\n",
              "      <td>-7.392754e-14</td>\n",
              "      <td>1.197871e-13</td>\n",
              "      <td>-5.045166e-14</td>\n",
              "      <td>2.344681e-14</td>\n",
              "    </tr>\n",
              "    <tr>\n",
              "      <th>3</th>\n",
              "      <td>-2.374203e-15</td>\n",
              "      <td>-2.856169e-15</td>\n",
              "      <td>4.638874e-15</td>\n",
              "      <td>-7.392754e-14</td>\n",
              "      <td>1.197871e-13</td>\n",
              "      <td>-5.045166e-14</td>\n",
              "      <td>2.344681e-14</td>\n",
              "      <td>-1.833348e-13</td>\n",
              "    </tr>\n",
              "    <tr>\n",
              "      <th>4</th>\n",
              "      <td>-2.856169e-15</td>\n",
              "      <td>4.638874e-15</td>\n",
              "      <td>-7.392754e-14</td>\n",
              "      <td>1.197871e-13</td>\n",
              "      <td>-5.045166e-14</td>\n",
              "      <td>2.344681e-14</td>\n",
              "      <td>-1.833348e-13</td>\n",
              "      <td>3.382311e-13</td>\n",
              "    </tr>\n",
              "  </tbody>\n",
              "</table>\n",
              "</div>"
            ],
            "text/plain": [
              "              0             1             2             3             4  \\\n",
              "0 -6.153279e-14 -4.023197e-15 -4.834471e-15 -2.374203e-15 -2.856169e-15   \n",
              "1 -4.023197e-15 -4.834471e-15 -2.374203e-15 -2.856169e-15  4.638874e-15   \n",
              "2 -4.834471e-15 -2.374203e-15 -2.856169e-15  4.638874e-15 -7.392754e-14   \n",
              "3 -2.374203e-15 -2.856169e-15  4.638874e-15 -7.392754e-14  1.197871e-13   \n",
              "4 -2.856169e-15  4.638874e-15 -7.392754e-14  1.197871e-13 -5.045166e-14   \n",
              "\n",
              "              5             6             7  \n",
              "0  4.638874e-15 -7.392754e-14  1.197871e-13  \n",
              "1 -7.392754e-14  1.197871e-13 -5.045166e-14  \n",
              "2  1.197871e-13 -5.045166e-14  2.344681e-14  \n",
              "3 -5.045166e-14  2.344681e-14 -1.833348e-13  \n",
              "4  2.344681e-14 -1.833348e-13  3.382311e-13  "
            ]
          },
          "execution_count": 24,
          "metadata": {},
          "output_type": "execute_result"
        }
      ],
      "source": [
        "X = pd.DataFrame(df['window'].tolist())\n",
        "X_clean = X.dropna(axis = 1, how = 'any')\n",
        "y = df['classification'].astype(int)\n",
        "X_clean.head()"
      ]
    },
    {
      "cell_type": "code",
      "execution_count": 23,
      "metadata": {},
      "outputs": [
        {
          "data": {
            "text/html": [
              "<style>#sk-container-id-3 {color: black;}#sk-container-id-3 pre{padding: 0;}#sk-container-id-3 div.sk-toggleable {background-color: white;}#sk-container-id-3 label.sk-toggleable__label {cursor: pointer;display: block;width: 100%;margin-bottom: 0;padding: 0.3em;box-sizing: border-box;text-align: center;}#sk-container-id-3 label.sk-toggleable__label-arrow:before {content: \"▸\";float: left;margin-right: 0.25em;color: #696969;}#sk-container-id-3 label.sk-toggleable__label-arrow:hover:before {color: black;}#sk-container-id-3 div.sk-estimator:hover label.sk-toggleable__label-arrow:before {color: black;}#sk-container-id-3 div.sk-toggleable__content {max-height: 0;max-width: 0;overflow: hidden;text-align: left;background-color: #f0f8ff;}#sk-container-id-3 div.sk-toggleable__content pre {margin: 0.2em;color: black;border-radius: 0.25em;background-color: #f0f8ff;}#sk-container-id-3 input.sk-toggleable__control:checked~div.sk-toggleable__content {max-height: 200px;max-width: 100%;overflow: auto;}#sk-container-id-3 input.sk-toggleable__control:checked~label.sk-toggleable__label-arrow:before {content: \"▾\";}#sk-container-id-3 div.sk-estimator input.sk-toggleable__control:checked~label.sk-toggleable__label {background-color: #d4ebff;}#sk-container-id-3 div.sk-label input.sk-toggleable__control:checked~label.sk-toggleable__label {background-color: #d4ebff;}#sk-container-id-3 input.sk-hidden--visually {border: 0;clip: rect(1px 1px 1px 1px);clip: rect(1px, 1px, 1px, 1px);height: 1px;margin: -1px;overflow: hidden;padding: 0;position: absolute;width: 1px;}#sk-container-id-3 div.sk-estimator {font-family: monospace;background-color: #f0f8ff;border: 1px dotted black;border-radius: 0.25em;box-sizing: border-box;margin-bottom: 0.5em;}#sk-container-id-3 div.sk-estimator:hover {background-color: #d4ebff;}#sk-container-id-3 div.sk-parallel-item::after {content: \"\";width: 100%;border-bottom: 1px solid gray;flex-grow: 1;}#sk-container-id-3 div.sk-label:hover label.sk-toggleable__label {background-color: #d4ebff;}#sk-container-id-3 div.sk-serial::before {content: \"\";position: absolute;border-left: 1px solid gray;box-sizing: border-box;top: 0;bottom: 0;left: 50%;z-index: 0;}#sk-container-id-3 div.sk-serial {display: flex;flex-direction: column;align-items: center;background-color: white;padding-right: 0.2em;padding-left: 0.2em;position: relative;}#sk-container-id-3 div.sk-item {position: relative;z-index: 1;}#sk-container-id-3 div.sk-parallel {display: flex;align-items: stretch;justify-content: center;background-color: white;position: relative;}#sk-container-id-3 div.sk-item::before, #sk-container-id-3 div.sk-parallel-item::before {content: \"\";position: absolute;border-left: 1px solid gray;box-sizing: border-box;top: 0;bottom: 0;left: 50%;z-index: -1;}#sk-container-id-3 div.sk-parallel-item {display: flex;flex-direction: column;z-index: 1;position: relative;background-color: white;}#sk-container-id-3 div.sk-parallel-item:first-child::after {align-self: flex-end;width: 50%;}#sk-container-id-3 div.sk-parallel-item:last-child::after {align-self: flex-start;width: 50%;}#sk-container-id-3 div.sk-parallel-item:only-child::after {width: 0;}#sk-container-id-3 div.sk-dashed-wrapped {border: 1px dashed gray;margin: 0 0.4em 0.5em 0.4em;box-sizing: border-box;padding-bottom: 0.4em;background-color: white;}#sk-container-id-3 div.sk-label label {font-family: monospace;font-weight: bold;display: inline-block;line-height: 1.2em;}#sk-container-id-3 div.sk-label-container {text-align: center;}#sk-container-id-3 div.sk-container {/* jupyter's `normalize.less` sets `[hidden] { display: none; }` but bootstrap.min.css set `[hidden] { display: none !important; }` so we also need the `!important` here to be able to override the default hidden behavior on the sphinx rendered scikit-learn.org. See: https://github.com/scikit-learn/scikit-learn/issues/21755 */display: inline-block !important;position: relative;}#sk-container-id-3 div.sk-text-repr-fallback {display: none;}</style><div id=\"sk-container-id-3\" class=\"sk-top-container\"><div class=\"sk-text-repr-fallback\"><pre>LogisticRegression(max_iter=1000)</pre><b>In a Jupyter environment, please rerun this cell to show the HTML representation or trust the notebook. <br />On GitHub, the HTML representation is unable to render, please try loading this page with nbviewer.org.</b></div><div class=\"sk-container\" hidden><div class=\"sk-item\"><div class=\"sk-estimator sk-toggleable\"><input class=\"sk-toggleable__control sk-hidden--visually\" id=\"sk-estimator-id-3\" type=\"checkbox\" checked><label for=\"sk-estimator-id-3\" class=\"sk-toggleable__label sk-toggleable__label-arrow\">LogisticRegression</label><div class=\"sk-toggleable__content\"><pre>LogisticRegression(max_iter=1000)</pre></div></div></div></div></div>"
            ],
            "text/plain": [
              "LogisticRegression(max_iter=1000)"
            ]
          },
          "execution_count": 23,
          "metadata": {},
          "output_type": "execute_result"
        }
      ],
      "source": [
        "# Takes 5 seconds to run\n",
        "model = LogisticRegression(max_iter=1000)\n",
        "model.fit(X_clean, y)"
      ]
    },
    {
      "cell_type": "code",
      "execution_count": 22,
      "metadata": {},
      "outputs": [
        {
          "data": {
            "text/html": [
              "<style>#sk-container-id-2 {color: black;}#sk-container-id-2 pre{padding: 0;}#sk-container-id-2 div.sk-toggleable {background-color: white;}#sk-container-id-2 label.sk-toggleable__label {cursor: pointer;display: block;width: 100%;margin-bottom: 0;padding: 0.3em;box-sizing: border-box;text-align: center;}#sk-container-id-2 label.sk-toggleable__label-arrow:before {content: \"▸\";float: left;margin-right: 0.25em;color: #696969;}#sk-container-id-2 label.sk-toggleable__label-arrow:hover:before {color: black;}#sk-container-id-2 div.sk-estimator:hover label.sk-toggleable__label-arrow:before {color: black;}#sk-container-id-2 div.sk-toggleable__content {max-height: 0;max-width: 0;overflow: hidden;text-align: left;background-color: #f0f8ff;}#sk-container-id-2 div.sk-toggleable__content pre {margin: 0.2em;color: black;border-radius: 0.25em;background-color: #f0f8ff;}#sk-container-id-2 input.sk-toggleable__control:checked~div.sk-toggleable__content {max-height: 200px;max-width: 100%;overflow: auto;}#sk-container-id-2 input.sk-toggleable__control:checked~label.sk-toggleable__label-arrow:before {content: \"▾\";}#sk-container-id-2 div.sk-estimator input.sk-toggleable__control:checked~label.sk-toggleable__label {background-color: #d4ebff;}#sk-container-id-2 div.sk-label input.sk-toggleable__control:checked~label.sk-toggleable__label {background-color: #d4ebff;}#sk-container-id-2 input.sk-hidden--visually {border: 0;clip: rect(1px 1px 1px 1px);clip: rect(1px, 1px, 1px, 1px);height: 1px;margin: -1px;overflow: hidden;padding: 0;position: absolute;width: 1px;}#sk-container-id-2 div.sk-estimator {font-family: monospace;background-color: #f0f8ff;border: 1px dotted black;border-radius: 0.25em;box-sizing: border-box;margin-bottom: 0.5em;}#sk-container-id-2 div.sk-estimator:hover {background-color: #d4ebff;}#sk-container-id-2 div.sk-parallel-item::after {content: \"\";width: 100%;border-bottom: 1px solid gray;flex-grow: 1;}#sk-container-id-2 div.sk-label:hover label.sk-toggleable__label {background-color: #d4ebff;}#sk-container-id-2 div.sk-serial::before {content: \"\";position: absolute;border-left: 1px solid gray;box-sizing: border-box;top: 0;bottom: 0;left: 50%;z-index: 0;}#sk-container-id-2 div.sk-serial {display: flex;flex-direction: column;align-items: center;background-color: white;padding-right: 0.2em;padding-left: 0.2em;position: relative;}#sk-container-id-2 div.sk-item {position: relative;z-index: 1;}#sk-container-id-2 div.sk-parallel {display: flex;align-items: stretch;justify-content: center;background-color: white;position: relative;}#sk-container-id-2 div.sk-item::before, #sk-container-id-2 div.sk-parallel-item::before {content: \"\";position: absolute;border-left: 1px solid gray;box-sizing: border-box;top: 0;bottom: 0;left: 50%;z-index: -1;}#sk-container-id-2 div.sk-parallel-item {display: flex;flex-direction: column;z-index: 1;position: relative;background-color: white;}#sk-container-id-2 div.sk-parallel-item:first-child::after {align-self: flex-end;width: 50%;}#sk-container-id-2 div.sk-parallel-item:last-child::after {align-self: flex-start;width: 50%;}#sk-container-id-2 div.sk-parallel-item:only-child::after {width: 0;}#sk-container-id-2 div.sk-dashed-wrapped {border: 1px dashed gray;margin: 0 0.4em 0.5em 0.4em;box-sizing: border-box;padding-bottom: 0.4em;background-color: white;}#sk-container-id-2 div.sk-label label {font-family: monospace;font-weight: bold;display: inline-block;line-height: 1.2em;}#sk-container-id-2 div.sk-label-container {text-align: center;}#sk-container-id-2 div.sk-container {/* jupyter's `normalize.less` sets `[hidden] { display: none; }` but bootstrap.min.css set `[hidden] { display: none !important; }` so we also need the `!important` here to be able to override the default hidden behavior on the sphinx rendered scikit-learn.org. See: https://github.com/scikit-learn/scikit-learn/issues/21755 */display: inline-block !important;position: relative;}#sk-container-id-2 div.sk-text-repr-fallback {display: none;}</style><div id=\"sk-container-id-2\" class=\"sk-top-container\"><div class=\"sk-text-repr-fallback\"><pre>RandomForestClassifier(random_state=42)</pre><b>In a Jupyter environment, please rerun this cell to show the HTML representation or trust the notebook. <br />On GitHub, the HTML representation is unable to render, please try loading this page with nbviewer.org.</b></div><div class=\"sk-container\" hidden><div class=\"sk-item\"><div class=\"sk-estimator sk-toggleable\"><input class=\"sk-toggleable__control sk-hidden--visually\" id=\"sk-estimator-id-2\" type=\"checkbox\" checked><label for=\"sk-estimator-id-2\" class=\"sk-toggleable__label sk-toggleable__label-arrow\">RandomForestClassifier</label><div class=\"sk-toggleable__content\"><pre>RandomForestClassifier(random_state=42)</pre></div></div></div></div></div>"
            ],
            "text/plain": [
              "RandomForestClassifier(random_state=42)"
            ]
          },
          "execution_count": 22,
          "metadata": {},
          "output_type": "execute_result"
        }
      ],
      "source": [
        "# Takes 4 minutes to run\n",
        "rf_classifier = RandomForestClassifier(n_estimators=100, random_state=42)\n",
        "rf_classifier.fit(X_clean, y)"
      ]
    },
    {
      "cell_type": "markdown",
      "metadata": {},
      "source": [
        "# Test Data Processing"
      ]
    }
  ],
  "metadata": {
    "colab": {
      "provenance": []
    },
    "kernelspec": {
      "display_name": "base",
      "language": "python",
      "name": "python3"
    },
    "language_info": {
      "codemirror_mode": {
        "name": "ipython",
        "version": 3
      },
      "file_extension": ".py",
      "mimetype": "text/x-python",
      "name": "python",
      "nbconvert_exporter": "python",
      "pygments_lexer": "ipython3",
      "version": "3.11.5"
    }
  },
  "nbformat": 4,
  "nbformat_minor": 0
}
